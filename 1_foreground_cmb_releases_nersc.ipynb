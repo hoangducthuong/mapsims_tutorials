{
 "cells": [
  {
   "cell_type": "code",
   "execution_count": null,
   "metadata": {},
   "outputs": [],
   "source": [
    "import mapsims\n",
    "import numpy as np\n",
    "import healpy as hp\n",
    "import pysm3.units as u\n",
    "from pathlib import Path\n",
    "%matplotlib inline"
   ]
  },
  {
   "cell_type": "markdown",
   "metadata": {},
   "source": [
    "# Access existing foreground and CMB map based simulations\n",
    "\n",
    "The most important repository for Simons Observatory map based simulations is:\n",
    "\n",
    "* https://github.com/simonsobs/map_based_simulations\n",
    "\n",
    "It contains all the documentation about available released map and software, in particular:\n",
    "\n",
    "* Check for news about available releases on the [Logbook](https://github.com/simonsobs/map_based_simulations/blob/master/LOGBOOK.md)\n",
    "* Check documentation about a release and the path at NERSC, for example the last foreground/CMB [201906_highres_foregrounds_extragalactic_tophat](https://github.com/simonsobs/map_based_simulations/tree/master/201906_highres_foregrounds_extragalactic_tophat)\n",
    "* Check all the configuration files used to produce a dataset"
   ]
  },
  {
   "cell_type": "markdown",
   "metadata": {},
   "source": [
    "## Access channel metadata with `mapsims`"
   ]
  },
  {
   "cell_type": "code",
   "execution_count": null,
   "metadata": {},
   "outputs": [],
   "source": [
    "channels = mapsims.parse_channels(\"tube:ST0\")"
   ]
  },
  {
   "cell_type": "code",
   "execution_count": null,
   "metadata": {},
   "outputs": [],
   "source": [
    "print(channels)"
   ]
  },
  {
   "cell_type": "code",
   "execution_count": null,
   "metadata": {},
   "outputs": [],
   "source": [
    "channel = channels[0][0]"
   ]
  },
  {
   "cell_type": "code",
   "execution_count": null,
   "metadata": {},
   "outputs": [],
   "source": [
    "channel.beam"
   ]
  },
  {
   "cell_type": "markdown",
   "metadata": {},
   "source": [
    "Check the documentation of [`astropy.units`](https://docs.astropy.org/en/stable/units/) for details about handling units."
   ]
  },
  {
   "cell_type": "code",
   "execution_count": null,
   "metadata": {},
   "outputs": [],
   "source": [
    "channel.center_frequency"
   ]
  },
  {
   "cell_type": "code",
   "execution_count": null,
   "metadata": {},
   "outputs": [],
   "source": [
    "channel.beam.to(u.deg)"
   ]
  },
  {
   "cell_type": "code",
   "execution_count": null,
   "metadata": {},
   "outputs": [],
   "source": [
    "for ch in mapsims.parse_channels(\"telescope:SA\"):\n",
    "    print(ch)"
   ]
  },
  {
   "cell_type": "code",
   "execution_count": null,
   "metadata": {},
   "outputs": [],
   "source": [
    "mapsims.parse_channels(\"030\", instrument_parameters=\"planck_deltabandpass\")"
   ]
  },
  {
   "cell_type": "code",
   "execution_count": null,
   "metadata": {},
   "outputs": [],
   "source": [
    "for ch in mapsims.parse_channels(\"all\") + mapsims.parse_channels(\"all\", instrument_parameters=\"planck_deltabandpass\"):\n",
    "    print(ch.telescope, ch, ch.beam, ch.center_frequency)"
   ]
  },
  {
   "cell_type": "markdown",
   "metadata": {},
   "source": [
    "## Small digression about units\n",
    "\n",
    "PySM 3 also adds the capability of converting between $K_{CMB}$, $K_{RJ}$ and $MJ/sr$"
   ]
  },
  {
   "cell_type": "code",
   "execution_count": null,
   "metadata": {},
   "outputs": [],
   "source": [
    "(100 * u.uK_CMB).to(u.uK_RJ, equivalencies=u.cmb_equivalencies(channel.center_frequency))"
   ]
  },
  {
   "cell_type": "code",
   "execution_count": null,
   "metadata": {},
   "outputs": [],
   "source": [
    "(100 * u.uK_CMB).to(u.MJy/u.sr, equivalencies=u.cmb_equivalencies(channel.center_frequency))"
   ]
  },
  {
   "cell_type": "markdown",
   "metadata": {},
   "source": [
    "# Load maps from a map based release at NERSC"
   ]
  },
  {
   "cell_type": "code",
   "execution_count": null,
   "metadata": {},
   "outputs": [],
   "source": [
    "folder = \"/project/projectdirs/sobs/v4_sims/mbs/201906_highres_foregrounds_extragalactic_tophat\""
   ]
  },
  {
   "cell_type": "code",
   "execution_count": null,
   "metadata": {},
   "outputs": [],
   "source": [
    "!ls $folder/512"
   ]
  },
  {
   "cell_type": "code",
   "execution_count": null,
   "metadata": {},
   "outputs": [],
   "source": [
    "filename_template = \"{nside}/{content}/{num:04d}/simonsobs_{content}_uKCMB_{telescope}{band}_nside{nside}_{num:04d}.fits\""
   ]
  },
  {
   "cell_type": "code",
   "execution_count": null,
   "metadata": {},
   "outputs": [],
   "source": [
    "filename = Path(folder) / filename_template.format(nside=512, content=\"combined\", num=0, \n",
    "                                                   telescope=channel.telescope.lower(), band=channel.band)"
   ]
  },
  {
   "cell_type": "code",
   "execution_count": null,
   "metadata": {},
   "outputs": [],
   "source": [
    "print(filename)"
   ]
  },
  {
   "cell_type": "code",
   "execution_count": null,
   "metadata": {},
   "outputs": [],
   "source": [
    "m = hp.read_map(filename, (0,1,2))"
   ]
  },
  {
   "cell_type": "code",
   "execution_count": null,
   "metadata": {},
   "outputs": [],
   "source": [
    "m_P = np.sqrt(m[1]**2 + m[2]**2)"
   ]
  },
  {
   "cell_type": "code",
   "execution_count": null,
   "metadata": {},
   "outputs": [],
   "source": [
    "hp.mollview(m_P, min=0, max=300, title=\"Polarization amplitude: \" + channel.tag, unit=\"uK_CMB\")"
   ]
  },
  {
   "cell_type": "markdown",
   "metadata": {},
   "source": [
    "# Apply standard galactic masks\n",
    "\n",
    "Map-based releases also include standard Galactic masks that can be used for analysis,\n",
    "see the documentation."
   ]
  },
  {
   "cell_type": "code",
   "execution_count": null,
   "metadata": {},
   "outputs": [],
   "source": [
    "!ls /project/projectdirs/sobs/v4_sims/mbs/201904_highres_foregrounds_equatorial/512/masks"
   ]
  },
  {
   "cell_type": "code",
   "execution_count": null,
   "metadata": {},
   "outputs": [],
   "source": [
    "mask_filename = \"mask_equatorial_pol_thr4p0_fsky0p71_ns512.fits\""
   ]
  },
  {
   "cell_type": "code",
   "execution_count": null,
   "metadata": {},
   "outputs": [],
   "source": [
    "mask = hp.read_map(\"/project/projectdirs/sobs/v4_sims/mbs/201904_highres_foregrounds_equatorial/512/masks/\"+mask_filename,\n",
    "                  dtype=np.bool)"
   ]
  },
  {
   "cell_type": "code",
   "execution_count": null,
   "metadata": {},
   "outputs": [],
   "source": [
    "mask"
   ]
  },
  {
   "cell_type": "code",
   "execution_count": null,
   "metadata": {},
   "outputs": [],
   "source": [
    "hp.mollview(\n",
    "    mask\n",
    ", coord=\"CG\")"
   ]
  },
  {
   "cell_type": "code",
   "execution_count": null,
   "metadata": {},
   "outputs": [],
   "source": [
    "m_P_masked = m_P.copy()\n",
    "m_P_masked[np.logical_not(mask)] = hp.UNSEEN"
   ]
  },
  {
   "cell_type": "code",
   "execution_count": null,
   "metadata": {},
   "outputs": [],
   "source": [
    "hp.mollview(m_P_masked)"
   ]
  },
  {
   "cell_type": "markdown",
   "metadata": {},
   "source": [
    "# Apply a scanning strategy cut\n",
    "\n",
    "The `mapsims.SONoiseSimulator` class, which is used to simulate noise, can also automatically download hitmaps that were simulated by TOAST in time domain."
   ]
  },
  {
   "cell_type": "code",
   "execution_count": null,
   "metadata": {},
   "outputs": [],
   "source": [
    "noise = mapsims.SONoiseSimulator(nside=512)"
   ]
  },
  {
   "cell_type": "code",
   "execution_count": null,
   "metadata": {},
   "outputs": [],
   "source": [
    "hitmaps, ave_nhits = noise.get_hitmaps(tube=channel.tube)"
   ]
  },
  {
   "cell_type": "markdown",
   "metadata": {},
   "source": [
    "For this simulation set the hitmaps are the same for both channels but in principle they might be different."
   ]
  },
  {
   "cell_type": "code",
   "execution_count": null,
   "metadata": {},
   "outputs": [],
   "source": [
    "(hitmaps[0] - hitmaps[1]).sum()"
   ]
  },
  {
   "cell_type": "code",
   "execution_count": null,
   "metadata": {},
   "outputs": [],
   "source": [
    "m_P_survey = m_P.copy()\n",
    "m_P_survey[hitmaps[0] == 0] = hp.UNSEEN"
   ]
  },
  {
   "cell_type": "code",
   "execution_count": null,
   "metadata": {},
   "outputs": [],
   "source": [
    "hp.mollview(m_P_survey)"
   ]
  },
  {
   "cell_type": "code",
   "execution_count": null,
   "metadata": {},
   "outputs": [],
   "source": []
  }
 ],
 "metadata": {
  "kernelspec": {
   "display_name": "Simons Obs MBS",
   "language": "python",
   "name": "sobs-mbs"
  },
  "language_info": {
   "codemirror_mode": {
    "name": "ipython",
    "version": 3
   },
   "file_extension": ".py",
   "mimetype": "text/x-python",
   "name": "python",
   "nbconvert_exporter": "python",
   "pygments_lexer": "ipython3",
   "version": "3.7.6"
  },
  "toc-autonumbering": true,
  "toc-showmarkdowntxt": false,
  "toc-showtags": false
 },
 "nbformat": 4,
 "nbformat_minor": 4
}
