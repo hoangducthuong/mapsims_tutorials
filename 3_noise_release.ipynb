{
 "cells": [
  {
   "cell_type": "code",
   "execution_count": null,
   "metadata": {},
   "outputs": [],
   "source": [
    "import mapsims\n",
    "import numpy as np\n",
    "import healpy as hp\n",
    "import pysm3.units as u\n",
    "from pathlib import Path\n",
    "%matplotlib inline\n",
    "import matplotlib.pyplot as plt"
   ]
  },
  {
   "cell_type": "markdown",
   "metadata": {},
   "source": [
    "# Access existing noise map based simulations\n",
    "\n",
    "The last noise simulation, just released is [`202006_noise`](https://github.com/simonsobs/map_based_simulations/tree/master/202006_noise).\n",
    "\n",
    "What is different in noise releases is that just 1 realization of full mission and splits is saved on disk, the others can be generated on-the-fly using `mapsims`, as we will see in the next notebook."
   ]
  },
  {
   "cell_type": "code",
   "execution_count": null,
   "metadata": {},
   "outputs": [],
   "source": [
    "channels = mapsims.parse_channels(\"tube:ST2\")"
   ]
  },
  {
   "cell_type": "code",
   "execution_count": null,
   "metadata": {},
   "outputs": [],
   "source": [
    "channel = channels[0][0]"
   ]
  },
  {
   "cell_type": "code",
   "execution_count": null,
   "metadata": {},
   "outputs": [],
   "source": [
    "print(channel)"
   ]
  },
  {
   "cell_type": "markdown",
   "metadata": {},
   "source": [
    "This release has variable $N_{side}$ based on the channel, see [this table](https://github.com/simonsobs/mapsims/blob/master/mapsims/data/so_default_resolution.csv), we have a utility function to retrieve that:"
   ]
  },
  {
   "cell_type": "code",
   "execution_count": null,
   "metadata": {},
   "outputs": [],
   "source": [
    "nside = mapsims.get_default_so_resolution(channel)"
   ]
  },
  {
   "cell_type": "markdown",
   "metadata": {},
   "source": [
    "# Load maps from a map based release at NERSC"
   ]
  },
  {
   "cell_type": "code",
   "execution_count": null,
   "metadata": {},
   "outputs": [],
   "source": [
    "folder = Path(\"/project/projectdirs/sobs/v4_sims/mbs/\")\n",
    "release = \"202006_noise\""
   ]
  },
  {
   "cell_type": "code",
   "execution_count": null,
   "metadata": {},
   "outputs": [],
   "source": [
    "filename_template = \"{content}/{num:04d}/simonsobs_{content}_uKCMB_{tube}_{band}_nside{nside}_{num:04d}_{split}_of_{nsplits}.fits\""
   ]
  },
  {
   "cell_type": "code",
   "execution_count": null,
   "metadata": {},
   "outputs": [],
   "source": [
    "filenames = [Path(folder) / release / filename_template.format(nside=nside, content=\"noise\", num=0, \n",
    "                                                   telescope=channel.telescope, tube=channel.tube, band=channel.band,\n",
    "                                                             split=1, nsplits=1)]"
   ]
  },
  {
   "cell_type": "code",
   "execution_count": null,
   "metadata": {},
   "outputs": [],
   "source": [
    "for split in range(1, 5):\n",
    "    filenames += [Path(folder) / release / filename_template.format(nside=nside, content=\"noise\", num=0, \n",
    "                                                   telescope=channel.telescope, tube=channel.tube, band=channel.band,\n",
    "                                                             split=split, nsplits=4)]"
   ]
  },
  {
   "cell_type": "code",
   "execution_count": null,
   "metadata": {},
   "outputs": [],
   "source": [
    "maps = [hp.read_map(filename, (0,1,2)) for filename in filenames]"
   ]
  },
  {
   "cell_type": "code",
   "execution_count": null,
   "metadata": {},
   "outputs": [],
   "source": [
    "hp.mollview(maps[0][1], min=-20, max=20, title=\"EE map: \" + channel.tag, unit=\"uK_CMB\")"
   ]
  },
  {
   "cell_type": "markdown",
   "metadata": {},
   "source": [
    "# Load the theoretical noise curve\n",
    "\n",
    "Using `mapsims`, we can load the noise spectra generated from the `so_noise_models` package.\n",
    "By default they are generated for the full sky, therefore we need to scale down by the sky fraction\n",
    "to get the expected noise for a partial sky survey."
   ]
  },
  {
   "cell_type": "code",
   "execution_count": null,
   "metadata": {},
   "outputs": [],
   "source": [
    "noise = mapsims.SONoiseSimulator(nside=nside)"
   ]
  },
  {
   "cell_type": "code",
   "execution_count": null,
   "metadata": {},
   "outputs": [],
   "source": [
    "ell, ps_T, ps_P = noise.get_fullsky_noise_spectra(tube=channel.tube)"
   ]
  },
  {
   "cell_type": "code",
   "execution_count": null,
   "metadata": {},
   "outputs": [],
   "source": [
    "plt.loglog(ell, ps_P[0]);"
   ]
  },
  {
   "cell_type": "markdown",
   "metadata": {},
   "source": [
    "# Load hitmaps, apodize and take spectra\n",
    "\n",
    "Noise is very inhomogeneous, a direct anafast would be dominated by the border pixels with just a few hits, the trick is to multiply by the hitmap and then renormalize by the mean of the hitmap squared (as the $C_\\ell$ are in power).\n",
    "\n",
    "The sky fraction instead is needed because `anafast` always takes a transform of the full sky setting 0 on all the missing pixels.\n",
    "Therefore the spectrum power is averaged down and we need to scale back by the sky fraction."
   ]
  },
  {
   "cell_type": "code",
   "execution_count": null,
   "metadata": {},
   "outputs": [],
   "source": [
    "hitmaps, ave_nhits = noise.get_hitmaps(tube=channel.tube)"
   ]
  },
  {
   "cell_type": "code",
   "execution_count": null,
   "metadata": {},
   "outputs": [],
   "source": [
    "sky_fraction = (hitmaps[0] > 0).sum() / len(hitmaps[0])"
   ]
  },
  {
   "cell_type": "code",
   "execution_count": null,
   "metadata": {},
   "outputs": [],
   "source": [
    "sky_fraction"
   ]
  },
  {
   "cell_type": "code",
   "execution_count": null,
   "metadata": {},
   "outputs": [],
   "source": [
    "cls = [hp.anafast(m * hitmaps[0]) / np.mean(hitmaps[0]**2) / sky_fraction for m in maps]"
   ]
  },
  {
   "cell_type": "code",
   "execution_count": null,
   "metadata": {},
   "outputs": [],
   "source": [
    "plt.figure(figsize=(8, 5))\n",
    "plt.loglog(ell, ps_P[0] * sky_fraction)\n",
    "plt.loglog(ell, ps_P[0] * sky_fraction * 4)\n",
    "\n",
    "for cl in cls:\n",
    "    plt.loglog(cl[1], alpha=.5)\n",
    "plt.xlabel(\"ell\")\n",
    "plt.ylabel(\"C_ell [uK^2]\");"
   ]
  },
  {
   "cell_type": "markdown",
   "metadata": {},
   "source": [
    "# Add foregrounds and CMB\n",
    "\n",
    "Currently the noise simulations are at variable $N_{side}$ while the foregrounds and CMB are 512/4096, so we might need to use `hp.ud_grade`. We are lucky that this channel is already at 512 so we do not need to.\n",
    "\n",
    "The next foreground release will also be at variable $N_{side}$ so this issue will not apply anymore."
   ]
  },
  {
   "cell_type": "code",
   "execution_count": null,
   "metadata": {},
   "outputs": [],
   "source": [
    "folder = \"/project/projectdirs/sobs/v4_sims/mbs/201906_highres_foregrounds_extragalactic_tophat\""
   ]
  },
  {
   "cell_type": "code",
   "execution_count": null,
   "metadata": {},
   "outputs": [],
   "source": [
    "filename_template = \"{nside}/{content}/{num:04d}/simonsobs_{content}_uKCMB_{telescope}{band}_nside{nside}_{num:04d}.fits\""
   ]
  },
  {
   "cell_type": "code",
   "execution_count": null,
   "metadata": {},
   "outputs": [],
   "source": [
    "filename = Path(folder) / filename_template.format(nside=512, content=\"combined\", num=0, \n",
    "                                                   telescope=channel.telescope.lower(), band=channel.band)"
   ]
  },
  {
   "cell_type": "code",
   "execution_count": null,
   "metadata": {},
   "outputs": [],
   "source": [
    "foregrounds_cmb = hp.ma(hp.read_map(filename, (0,1,2)))"
   ]
  },
  {
   "cell_type": "code",
   "execution_count": null,
   "metadata": {},
   "outputs": [],
   "source": [
    "maps = [each + foregrounds_cmb for each in maps]"
   ]
  },
  {
   "cell_type": "code",
   "execution_count": null,
   "metadata": {},
   "outputs": [],
   "source": [
    "hp.mollview(maps[0][1], min=-20, max=20, title=\"EE map with foregrounds: \" + channel.tag, unit=\"uK_CMB\")"
   ]
  },
  {
   "cell_type": "code",
   "execution_count": null,
   "metadata": {},
   "outputs": [],
   "source": []
  }
 ],
 "metadata": {
  "kernelspec": {
   "display_name": "Simons Obs MBS",
   "language": "python",
   "name": "sobs-mbs"
  },
  "language_info": {
   "codemirror_mode": {
    "name": "ipython",
    "version": 3
   },
   "file_extension": ".py",
   "mimetype": "text/x-python",
   "name": "python",
   "nbconvert_exporter": "python",
   "pygments_lexer": "ipython3",
   "version": "3.7.6"
  }
 },
 "nbformat": 4,
 "nbformat_minor": 4
}
