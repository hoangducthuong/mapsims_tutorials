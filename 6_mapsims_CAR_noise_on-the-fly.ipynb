{
 "cells": [
  {
   "cell_type": "markdown",
   "metadata": {},
   "source": [
    "# On-the-fly simulations in CAR pixelization\n",
    "\n",
    "We'll now switch to working with maps that are in the Plate-Caree (CAR) projection stored in 2d grids of rectangular pixels. The 2d rectangular aspect allows us to work with maps as numpy arrays, which is especially efficient at storing partial skies. The CAR projection aspect means that spherical harmonic transforms are possible through the ``libsharp`` library.\n",
    "\n",
    "We use the `pixell` library to work with these maps. Please watch the tutorial on using `pixell` here: https://www.simonsfoundation.org/event/so-theory-tutorial/\n"
   ]
  },
  {
   "cell_type": "code",
   "execution_count": null,
   "metadata": {},
   "outputs": [],
   "source": [
    "# We load the mapsims library as before\n",
    "import mapsims\n",
    "# pixell.enmap is for general map manipulation\n",
    "# pixell.curvedsky is for SHT-related operations\n",
    "# pixell.utils is for general utilities; we use it for units\n",
    "# pixell.enplot lets us make high-resolution visualizations of the map using the Python Image Library\n",
    "from pixell import enmap, curvedsky as cs, utils, enplot\n",
    "import numpy as np\n",
    "# We'll use healpy to do an alm -> cl operation\n",
    "import healpy as hp\n",
    "import matplotlib.pyplot as plt"
   ]
  },
  {
   "cell_type": "markdown",
   "metadata": {},
   "source": [
    "## Noise class recap"
   ]
  },
  {
   "cell_type": "markdown",
   "metadata": {},
   "source": [
    "The core class for noise simulations is `SONoiseSimulator`. It wraps around the SO noise forecast code, which provides noise power spectra (including atmospheric 1/f and white noise) assuming uniform coverage in a specified sky fraction. In addition, it knows about the \"hit-count\" information for various SO detector tubes (produced by the scan strategy / time domain working groups) through interfaces with remote locations for maps that encode these. It caches these hitmaps locally on disk on first use, and in memory during repeated calls for realizations of the noise.\n",
    "\n",
    "The hit-counts are used to modulate the SO noise forecast power spectra to produce Gaussian realization maps that are inhomogenous.\n",
    "\n",
    "Let's examine the class to see how to initialize it:"
   ]
  },
  {
   "cell_type": "code",
   "execution_count": null,
   "metadata": {},
   "outputs": [],
   "source": [
    "mapsims.noise.SONoiseSimulator?"
   ]
  },
  {
   "cell_type": "markdown",
   "metadata": {},
   "source": [
    "We see that we need to specify either HEALPIX nside or the shape,wcs pair for a CAR map. Let's request simulated maps with 16 arcmin wide pixels since for this demo we'll work with SAT maps. We ask for our output maps to be projected to a full-sky template with that resolution."
   ]
  },
  {
   "cell_type": "markdown",
   "metadata": {},
   "source": [
    "## CAR geometry noise maps"
   ]
  },
  {
   "cell_type": "code",
   "execution_count": null,
   "metadata": {},
   "outputs": [],
   "source": [
    "shape,wcs = enmap.fullsky_geometry(res=16.0 * utils.arcmin)\n",
    "noise_sim = mapsims.noise.SONoiseSimulator(shape=shape,wcs=wcs)"
   ]
  },
  {
   "cell_type": "markdown",
   "metadata": {},
   "source": [
    "We've instantiated the noise simulator object. The main member function we need is `simulate`, we generates a Gaussian random field with the default inhomogenity and noise power spectra. Let's examine its signature:"
   ]
  },
  {
   "cell_type": "code",
   "execution_count": null,
   "metadata": {},
   "outputs": [],
   "source": [
    "noise_sim.simulate?"
   ]
  },
  {
   "cell_type": "code",
   "execution_count": null,
   "metadata": {},
   "outputs": [],
   "source": [
    "print(noise_sim.tubes)\n",
    "print(noise_sim.tubes['ST0'][0].center_frequency)"
   ]
  },
  {
   "cell_type": "markdown",
   "metadata": {},
   "source": [
    "We need to specify the name of an SO tube. Let's go with the SAT's ST0 tube. This is a dichroic array containing 150 GHz and 90 GHz channels. We specify a mask value in the unobserved region of zero instead of the default numpy.nan:"
   ]
  },
  {
   "cell_type": "code",
   "execution_count": null,
   "metadata": {},
   "outputs": [],
   "source": [
    "tube = 'ST0'\n",
    "omap = noise_sim.simulate(tube,mask_value=0)"
   ]
  },
  {
   "cell_type": "markdown",
   "metadata": {},
   "source": [
    "Let's examine the shape and wcs of the returned map:"
   ]
  },
  {
   "cell_type": "code",
   "execution_count": null,
   "metadata": {},
   "outputs": [],
   "source": [
    "print(omap.shape)\n",
    "print(omap.wcs)"
   ]
  },
  {
   "cell_type": "markdown",
   "metadata": {},
   "source": [
    "Why is the map 5-dimensional? The dimension convention in this noise generator is:\n",
    "\n",
    "```\n",
    "(narray,nsplit,ncomp,Ny,Nx)\n",
    "```\n",
    "\n",
    "`Ny` and `Nx` are the usual vertical (declination) and horizontal (RA) pixel lengths of the underlying 2d maps. `ncomp=3` since there are three maps in each array for each of the I,Q,U Stokes components. This code allows us to generate indepndent splits of the map, where each split has `nsplits` larger noise power than specified, with the default being no splitting (`nsplits=1`). Finally, the leading dimensions of the map always have length `narray=2` corresponding to the two correlated dichroic arrays within a tube, in this case the 90 GHz and 150 GHz channels of the LAT's LT3 tube. \n",
    "\n",
    "Let's focus on the intensity I of the 90 GHz map, and plot it:"
   ]
  },
  {
   "cell_type": "code",
   "execution_count": null,
   "metadata": {},
   "outputs": [],
   "source": [
    "tmap1 = omap[0,0,0]\n",
    "enplot.show(enplot.plot(tmap1,downgrade=1,grid=True,ticks=20,mask=0,colorbar=True,range=3))"
   ]
  },
  {
   "cell_type": "markdown",
   "metadata": {},
   "source": [
    "That looks like noise. Noice. It's fairly inhomogeneous, with the noise blowing up near the edges. We don't see any stripiness -- because the SO map-based noise model is too simplistic to capture that! We also find that compared to previous versions of the SO map-based noise sims, we're not just seeing noise modes at the largest scales dominate, since the noise power has been rolled off on large scales to simulate what happens in a realistic map-maker run that doesn't converge fully on the largest scales (and the atmospheric noise doesn't keep arbitrarily increasing anyway).\n",
    "\n",
    "\n",
    "We also see that we waste quite a lot of space in memory storing all those zero pixels. Let's utilize the cut-sky benefits of working with CAR pixels and define a smaller template limited to the -80 to 30 degree declination region, and re-initialize our noise simulator with that."
   ]
  },
  {
   "cell_type": "code",
   "execution_count": null,
   "metadata": {},
   "outputs": [],
   "source": [
    "shape,wcs = enmap.band_geometry(dec_cut=np.asarray((-80,30))*utils.degree,res=16.0 * utils.arcmin)\n",
    "noise_sim = mapsims.noise.SONoiseSimulator(shape=shape,wcs=wcs)"
   ]
  },
  {
   "cell_type": "code",
   "execution_count": null,
   "metadata": {},
   "outputs": [],
   "source": [
    "omap = noise_sim.simulate(tube,mask_value=0)"
   ]
  },
  {
   "cell_type": "code",
   "execution_count": null,
   "metadata": {},
   "outputs": [],
   "source": [
    "tmap1 = omap[0,0,0]\n",
    "plot = lambda x,**kwargs: enplot.show(enplot.plot(x,downgrade=1,grid=True,ticks=20,mask=0,**kwargs))\n",
    "plot(tmap1,range=3)"
   ]
  },
  {
   "cell_type": "markdown",
   "metadata": {},
   "source": [
    "Ok, that looks a bit tighter -- we're more memory efficient and our SHTs (and iSHT based sim generation) will be faster.\n",
    "\n"
   ]
  },
  {
   "cell_type": "markdown",
   "metadata": {},
   "source": [
    "## Understanding the noise model"
   ]
  },
  {
   "cell_type": "markdown",
   "metadata": {},
   "source": [
    "A very useful auxiliary product to have is the inverse noise variance in each pixel (units 1/muK^2). Let's get that."
   ]
  },
  {
   "cell_type": "code",
   "execution_count": null,
   "metadata": {},
   "outputs": [],
   "source": [
    "ivar = noise_sim.get_inverse_variance(tube)\n",
    "print(ivar.shape)"
   ]
  },
  {
   "cell_type": "markdown",
   "metadata": {},
   "source": [
    "In our noise model, all the splits and all the I,Q,U components have the same position dependence of the noise. You just have to keep in mind that each split just has `nsplits` times the noise power (or `1/nsplits` the inverse noise variance) and that the Q,U components have 2x times the noise power (or 1/2 times the inverse noise variance) of the intensity components.\n",
    "\n",
    "The inverse noise variance provided by the function above is for the `nsplits=1` intensity component. It has two components, one for each of the two correlated arrays in the dichroic tube. We pick the first one, since that's the one corresponding to the map we just simulated:"
   ]
  },
  {
   "cell_type": "code",
   "execution_count": null,
   "metadata": {},
   "outputs": [],
   "source": [
    "ivar1 = ivar[0]\n",
    "plot(ivar1,colorbar=True)"
   ]
  },
  {
   "cell_type": "markdown",
   "metadata": {},
   "source": [
    "And now we see the underlying inhomogenity much better. The inverse noise variance is directly proportional the hit-count maps taken as the input for the noise model. You can clearly see the scan strategy here.\n",
    "\n",
    "We can use the inverse noise variance map together with the simulated map to verify that our simulations match the input spectra.\n",
    "\n",
    "The basic idea is that for a simulated map $M$ and inverse noise variance $N^{-1}$, the power spectrum of \n",
    "\n",
    "$$\n",
    "M \\sqrt{N^{-1}}\n",
    "$$\n",
    "\n",
    "should be identical to the standardized SO noise power spectrum, i.e. the original noise power spectrum but with the white noise power divided out, such that the power spectrum asymptotes to 1 on small scales. This is in fact the *definition* of the noise model we use. You can think of it as standardizing or normalizing the small-scale / high-ell behaviour by dividing the standard deviation, i.e. if our noise model were perfectly homogenous with no 1/f atmospheric component and you divided each pixel by its standard deviation, you would get a white noise power spectrum with value 1. \n",
    "\n",
    "\n",
    "So we'll do just that. Multiply our map by the map of the inverse noise variance, take its power spectrum and compare to the input model. We do have to take into account that the inverse noise variance is provided *per pixel* (in units of uK-steradian), so we have to divide out the pixel area. Recall that the CAR pixelization is not equal area, so we need a *map* of the pixel areas. We could get this from `enmap.pixsizemap(shape,wcs)`, but instead we'll just use the pre-calculated one stored in the noise sim generator:"
   ]
  },
  {
   "cell_type": "code",
   "execution_count": null,
   "metadata": {},
   "outputs": [],
   "source": [
    "pmap = noise_sim.pixarea_map\n",
    "plot(pmap,colorbar=True)"
   ]
  },
  {
   "cell_type": "markdown",
   "metadata": {},
   "source": [
    "Let's plot the standardized map (which should look homogeneous):"
   ]
  },
  {
   "cell_type": "code",
   "execution_count": null,
   "metadata": {},
   "outputs": [],
   "source": [
    "plot(np.sqrt(ivar1/pmap)*tmap1)"
   ]
  },
  {
   "cell_type": "markdown",
   "metadata": {},
   "source": [
    "Now we calculate the power spectrum of the standardized map, making sure to correct approximately for the incomplete-sky coverage (the correction factor needs to account for the pixel area map too):"
   ]
  },
  {
   "cell_type": "code",
   "execution_count": null,
   "metadata": {},
   "outputs": [],
   "source": [
    "alm = cs.map2alm(np.sqrt(ivar1/pmap)*tmap1,lmax=500)\n",
    "mask = ivar1*0 + 1\n",
    "mask[ivar1<=0] = 0\n",
    "plot(mask,color='gray')\n",
    "w2 = np.sum((mask**2)*pmap) /np.pi / 4.\n",
    "print(w2)\n",
    "cls = hp.alm2cl(alm) / w2\n",
    "ls = np.arange(cls.size)\n",
    "\n",
    "plt.plot(ls,cls)\n",
    "plt.xlabel('$\\\\ell$')\n",
    "plt.ylabel('$C_{\\\\ell}$')\n",
    "plt.yscale('log')\n",
    "plt.xscale('log')\n",
    "plt.ylim(1e-1,6)\n",
    "plt.xlim(10,500)\n",
    "plt.show()"
   ]
  },
  {
   "cell_type": "markdown",
   "metadata": {},
   "source": [
    "How does this compare to the input power spectrum? To check this, we get the input power spectrum from the noise generator object"
   ]
  },
  {
   "cell_type": "code",
   "execution_count": null,
   "metadata": {},
   "outputs": [],
   "source": [
    "noise_sim.get_noise_properties?\n",
    "ells,ps_T,ps_P,fsky,wnoise,hitmaps = noise_sim.get_noise_properties(tube)\n",
    "print(ps_T.shape)"
   ]
  },
  {
   "cell_type": "markdown",
   "metadata": {},
   "source": [
    "and plot it dividing out the white noise level"
   ]
  },
  {
   "cell_type": "code",
   "execution_count": null,
   "metadata": {},
   "outputs": [],
   "source": [
    "plt.plot(ls,cls)\n",
    "plt.plot(ells,ps_T[0]/wnoise[0],ls='--')\n",
    "plt.axhline(y=1,color='k',ls='--',alpha=0.5)\n",
    "plt.xlabel('$\\\\ell$')\n",
    "plt.ylabel('$C_{\\\\ell}$')\n",
    "plt.yscale('log')\n",
    "plt.xscale('log')\n",
    "plt.ylim(1e-1,6)\n",
    "plt.xlim(10,500)\n",
    "plt.show()"
   ]
  },
  {
   "cell_type": "markdown",
   "metadata": {},
   "source": [
    "## Simplifying the noise model (e.g. for controlled tests)"
   ]
  },
  {
   "cell_type": "markdown",
   "metadata": {},
   "source": [
    "We can turn off the 1/f (atmosphere):"
   ]
  },
  {
   "cell_type": "code",
   "execution_count": null,
   "metadata": {},
   "outputs": [],
   "source": [
    "omap = noise_sim.simulate(tube,mask_value=0,atmosphere=False)\n",
    "plot(omap[0][0][0],range=2)"
   ]
  },
  {
   "cell_type": "markdown",
   "metadata": {},
   "source": [
    "Or ask for a homogenous map (no survey strategy or hitmap):"
   ]
  },
  {
   "cell_type": "code",
   "execution_count": null,
   "metadata": {},
   "outputs": [],
   "source": [
    "noise_sim = mapsims.noise.SONoiseSimulator(shape=shape,wcs=wcs,homogeneous=True,sky_fraction=0.4)\n",
    "omap = noise_sim.simulate(tube,mask_value=0)\n",
    "plot(omap[0][0][0],range=2)"
   ]
  },
  {
   "cell_type": "markdown",
   "metadata": {},
   "source": [
    "## CMB signal sims in CAR on-the-fly"
   ]
  },
  {
   "cell_type": "markdown",
   "metadata": {},
   "source": [
    "We've seen how to load saved CMB sims from disk. Here's how to alm->map them on the fly for seed number ``num``:"
   ]
  },
  {
   "cell_type": "code",
   "execution_count": null,
   "metadata": {},
   "outputs": [],
   "source": [
    "shape,wcs = enmap.band_geometry(np.asarray((-20,20))*utils.degree,res=4.*utils.arcmin)\n",
    "ssim = mapsims.SOStandalonePrecomputedCMB(num=0,shape=shape,wcs=wcs)"
   ]
  },
  {
   "cell_type": "code",
   "execution_count": null,
   "metadata": {},
   "outputs": [],
   "source": [
    "ch = noise_sim.tubes['LT3'][0] # get the channel corresponding to the first array in the tube\n",
    "omap = enmap.enmap(ssim.simulate(ch),wcs)"
   ]
  },
  {
   "cell_type": "code",
   "execution_count": null,
   "metadata": {},
   "outputs": [],
   "source": [
    "print(omap.shape,omap.wcs)\n",
    "for i in range(3): \n",
    "    box = np.asarray([[-20,-20],[20,20]]) * utils.degree\n",
    "    plot(omap[i].submap(box),font_size=10,color='planck' if i==0 else 'gray')"
   ]
  }
 ],
 "metadata": {
  "kernelspec": {
   "display_name": "Simons Obs MBS",
   "language": "python",
   "name": "sobs-mbs"
  },
  "language_info": {
   "codemirror_mode": {
    "name": "ipython",
    "version": 3
   },
   "file_extension": ".py",
   "mimetype": "text/x-python",
   "name": "python",
   "nbconvert_exporter": "python",
   "pygments_lexer": "ipython3",
   "version": "3.7.6"
  },
  "toc-autonumbering": true
 },
 "nbformat": 4,
 "nbformat_minor": 4
}
