{
 "cells": [
  {
   "cell_type": "code",
   "execution_count": null,
   "metadata": {},
   "outputs": [],
   "source": [
    "import mapsims\n",
    "import numpy as np\n",
    "import healpy as hp\n",
    "import pysm3.units as u\n",
    "from pathlib import Path\n",
    "import toml\n",
    "%matplotlib inline\n",
    "import matplotlib.pyplot as plt"
   ]
  },
  {
   "cell_type": "markdown",
   "metadata": {},
   "source": [
    "# Run map-based simulations on-the-fly starting from configuration files\n",
    "\n",
    "Once the Map-Based-Simulations group publishes a simulation release, it will provide configuration files which setup `mapsims` with all the correct parameters,\n",
    "see for example the 2 configuration toml (like `.ini` files <https://github.com/toml-lang/toml>) files: "
   ]
  },
  {
   "cell_type": "code",
   "execution_count": null,
   "metadata": {},
   "outputs": [],
   "source": [
    "!git clone --depth 1 https://github.com/simonsobs/map_based_simulations.git"
   ]
  },
  {
   "cell_type": "code",
   "execution_count": null,
   "metadata": {},
   "outputs": [],
   "source": [
    "!ls map_based_simulations/202006_noise/*.toml"
   ]
  },
  {
   "cell_type": "markdown",
   "metadata": {},
   "source": [
    "Multiple configuration files can be fed to `mapsims`, the `common.toml` generally contains general information about the output path, naming, units, simulation seed and splits.\n",
    "\n",
    "The `num` parameter is very important because it is passed thorugh to all the other simulation classes. So if you change that to 1, all the components a that support a seed, for example also CMB, creates a new realization which is reproducible."
   ]
  },
  {
   "cell_type": "code",
   "execution_count": null,
   "metadata": {},
   "outputs": [],
   "source": [
    "!cat map_based_simulations/202006_noise/common.toml"
   ]
  },
  {
   "cell_type": "markdown",
   "metadata": {},
   "source": [
    "The TOML files for each component are very general, they get a `class` attribute and then every other attribute is just passed to the class constructor, therefore it can execute any class as long as it has a standard `simulate` method with the expected signature.\n",
    "\n",
    "I also have a command line tool that can directly produce simulations from configuration files, `mapsims_run`, which I use to produce the map-based simulation releases. But we can also use those configuration files as a starting point for custom runs using the Python classes."
   ]
  },
  {
   "cell_type": "code",
   "execution_count": null,
   "metadata": {},
   "outputs": [],
   "source": [
    "!cat map_based_simulations/202006_noise/noise.toml"
   ]
  },
  {
   "cell_type": "markdown",
   "metadata": {},
   "source": [
    "The simplest way is to just copy-paste this configuration directly into a class constructor or load it with TOML, which creates a dictionary from a `.toml` file."
   ]
  },
  {
   "cell_type": "code",
   "execution_count": null,
   "metadata": {},
   "outputs": [],
   "source": [
    "noise_config = toml.load(\"map_based_simulations/202006_noise/noise.toml\")[\"other_components\"][\"noise\"]"
   ]
  },
  {
   "cell_type": "code",
   "execution_count": null,
   "metadata": {},
   "outputs": [],
   "source": [
    "noise_config"
   ]
  },
  {
   "cell_type": "code",
   "execution_count": null,
   "metadata": {},
   "outputs": [],
   "source": [
    "noise_config.pop(\"class\")"
   ]
  },
  {
   "cell_type": "code",
   "execution_count": null,
   "metadata": {},
   "outputs": [],
   "source": [
    "noise_sim = mapsims.SONoiseSimulator(nside=128, **noise_config)"
   ]
  },
  {
   "cell_type": "markdown",
   "metadata": {},
   "source": [
    "# Use the map simulator class MapSim\n",
    "\n",
    "We load the configuration files and then we override whatever configuration option we need,\n",
    "or we could create another TOML file and load it after `noise.toml`.\n",
    "`num` is the realization number, i.e. it fixes the seed for all different channels,\n",
    "the set of maps released were generated with `num=0`, we can set it to 1 to get a different set.\n",
    "\n",
    "We always work 1 tube at a time and get 2 maps with a cross-correlated component given by the atmosphere:"
   ]
  },
  {
   "cell_type": "code",
   "execution_count": null,
   "metadata": {},
   "outputs": [],
   "source": [
    "sim = mapsims.from_config([\"map_based_simulations/202006_noise/common.toml\",\n",
    "                           \"map_based_simulations/202006_noise/noise.toml\"],\n",
    "                           override={\"channels\":\"tube:ST3\", \"output_folder\":\".\", \"num\":1})"
   ]
  },
  {
   "cell_type": "code",
   "execution_count": null,
   "metadata": {},
   "outputs": [],
   "source": [
    "type(sim)"
   ]
  },
  {
   "cell_type": "markdown",
   "metadata": {},
   "source": [
    "Finally call execute to generate and return the maps.\n",
    "\n",
    "NSIDE is automatically set based on the channel, you can also override that by providing `nside` key to `override`."
   ]
  },
  {
   "cell_type": "code",
   "execution_count": null,
   "metadata": {},
   "outputs": [],
   "source": [
    "noise = sim.other_components[\"noise\"]"
   ]
  },
  {
   "cell_type": "code",
   "execution_count": null,
   "metadata": {},
   "outputs": [],
   "source": [
    "maps_1 = sim.execute()"
   ]
  },
  {
   "cell_type": "code",
   "execution_count": null,
   "metadata": {},
   "outputs": [],
   "source": [
    "maps_1.keys()"
   ]
  },
  {
   "cell_type": "code",
   "execution_count": null,
   "metadata": {},
   "outputs": [],
   "source": [
    "maps_1[\"ST3_LF1\"].shape"
   ]
  },
  {
   "cell_type": "markdown",
   "metadata": {},
   "source": [
    "To get another realization you can either create another `sim` object with a different `num`\n",
    "or directly override it on a already existing object:"
   ]
  },
  {
   "cell_type": "code",
   "execution_count": null,
   "metadata": {},
   "outputs": [],
   "source": [
    "sim.num = 2 # this is only used for the output filename\n",
    "sim.other_components[\"noise\"].seed = 2 # this is the actual realization number\n",
    "maps_2 = sim.execute()"
   ]
  },
  {
   "cell_type": "markdown",
   "metadata": {},
   "source": [
    "To change tube without creating another `sim` object, override `sim.channels`:"
   ]
  },
  {
   "cell_type": "code",
   "execution_count": null,
   "metadata": {},
   "outputs": [],
   "source": [
    "sim.channels"
   ]
  },
  {
   "cell_type": "code",
   "execution_count": null,
   "metadata": {},
   "outputs": [],
   "source": [
    "sim.channels = mapsims.parse_channels(\"tube:ST0\")"
   ]
  },
  {
   "cell_type": "code",
   "execution_count": null,
   "metadata": {},
   "outputs": [],
   "source": [
    "sim.execute().keys()"
   ]
  },
  {
   "cell_type": "markdown",
   "metadata": {},
   "source": [
    "## Write output maps"
   ]
  },
  {
   "cell_type": "code",
   "execution_count": null,
   "metadata": {},
   "outputs": [],
   "source": [
    "# save fits files instead\n",
    "sim.execute(write_outputs=True)"
   ]
  },
  {
   "cell_type": "code",
   "execution_count": null,
   "metadata": {},
   "outputs": [],
   "source": [
    "%ls *.fits"
   ]
  },
  {
   "cell_type": "markdown",
   "metadata": {},
   "source": [
    "## Plot the output maps"
   ]
  },
  {
   "cell_type": "code",
   "execution_count": null,
   "metadata": {},
   "outputs": [],
   "source": [
    "import healpy as hp"
   ]
  },
  {
   "cell_type": "code",
   "execution_count": null,
   "metadata": {},
   "outputs": [],
   "source": [
    "%matplotlib inline"
   ]
  },
  {
   "cell_type": "code",
   "execution_count": null,
   "metadata": {},
   "outputs": [],
   "source": [
    "hp.mollview(maps_1[\"ST3_LF1\"][1], min=-50, max=50)"
   ]
  },
  {
   "cell_type": "code",
   "execution_count": null,
   "metadata": {},
   "outputs": [],
   "source": [
    "hp.mollview(hp.ma(maps_2[\"ST3_LF1\"][1]), min=-50, max=50)"
   ]
  },
  {
   "cell_type": "markdown",
   "metadata": {},
   "source": [
    "# Generate multiple splits\n",
    "\n",
    "Override `nsplits` to generate multiple splits, the output maps will be a 3 dimensional array where for each split we have the 3 IQU components."
   ]
  },
  {
   "cell_type": "code",
   "execution_count": null,
   "metadata": {},
   "outputs": [],
   "source": [
    "sim = mapsims.from_config([\"map_based_simulations/202006_noise/common.toml\",\n",
    "                           \"map_based_simulations/202006_noise/noise.toml\"],\n",
    "                          override={\"channels\":\"tube:ST3\", \"output_folder\":\".\", \"num\":1, \"nsplits\":4})"
   ]
  },
  {
   "cell_type": "code",
   "execution_count": null,
   "metadata": {},
   "outputs": [],
   "source": [
    "maps = sim.execute()"
   ]
  },
  {
   "cell_type": "code",
   "execution_count": null,
   "metadata": {},
   "outputs": [],
   "source": [
    "maps[\"ST3_LF1\"].shape"
   ]
  },
  {
   "cell_type": "markdown",
   "metadata": {},
   "source": [
    "# Generate noise and CMB\n",
    "\n",
    "We can also check other map-based simulations releases and combine different configuration files to produce on-the-fly maps which have multiple components, for example noise and CMB.\n",
    "\n",
    "The `201911_lensed_cmb` includes 100 lensed CMB realizations, we can grab the `cmb.toml` file used to generate them, customize it with the correct path for NERSC, and feed it into `mapsims.from_config`."
   ]
  },
  {
   "cell_type": "code",
   "execution_count": null,
   "metadata": {},
   "outputs": [],
   "source": [
    "!ls map_based_simulations/201911_lensed_cmb"
   ]
  },
  {
   "cell_type": "code",
   "execution_count": null,
   "metadata": {},
   "outputs": [],
   "source": [
    "!cat map_based_simulations/201911_lensed_cmb/cmb.toml"
   ]
  },
  {
   "cell_type": "code",
   "execution_count": null,
   "metadata": {},
   "outputs": [],
   "source": [
    "%%file cmb.toml\n",
    "\n",
    "tag = \"cmb\"\n",
    "\n",
    "[ other_components ]\n",
    "\n",
    "    [ other_components.cmb ]\n",
    "    class  =  \"mapsims.SOStandalonePrecomputedCMB\"\n",
    "    lensed = true\n",
    "    # num is then overridden by command line option to mapsims_run\n",
    "    num = 0\n",
    "    aberrated = false\n",
    "    has_polarization = true\n",
    "    cmb_set = 0\n",
    "    # At NERSC use:\n",
    "    cmb_dir = \"/global/project/projectdirs/sobs/v4_sims/mbs/cmb\"\n",
    "    # On Popeye use:\n",
    "    # cmb_dir = \"/simons/scratch/zonca/simonsobs/lensed_cmb\"\n",
    "    input_units = \"uK_CMB\""
   ]
  },
  {
   "cell_type": "code",
   "execution_count": null,
   "metadata": {},
   "outputs": [],
   "source": [
    "sim_noise_cmb = mapsims.from_config([\"map_based_simulations/202006_noise/common.toml\",\n",
    "                           \"map_based_simulations/202006_noise/noise.toml\",\n",
    "                           \"cmb.toml\"],\n",
    "                          override={\"channels\":\"tube:ST3\", \"output_folder\":\".\", \"num\":1, \"nsplits\":1})"
   ]
  },
  {
   "cell_type": "code",
   "execution_count": null,
   "metadata": {},
   "outputs": [],
   "source": [
    "sim_noise_cmb.other_components"
   ]
  },
  {
   "cell_type": "code",
   "execution_count": null,
   "metadata": {},
   "outputs": [],
   "source": [
    "maps_noise_cmb = sim_noise_cmb.execute()"
   ]
  },
  {
   "cell_type": "code",
   "execution_count": null,
   "metadata": {},
   "outputs": [],
   "source": [
    "hp.mollview(hp.ma(maps_noise_cmb[\"ST3_LF1\"][0]), title=\"Noise + CMB\", unit=\"$\\mu K_{CMB}$\", min=-100, max=100)"
   ]
  },
  {
   "cell_type": "markdown",
   "metadata": {},
   "source": [
    "# Add foreground components\n",
    "\n",
    "We can also look at the older release `201906_highres_foregrounds_extragalactic_tophat` we saw in notebook 1, but now, instead of reading maps from disk, we generate it on the fly, which is convenient if we want a different $N_{side}$.\n",
    "Also, depending on the specific case, it might be quicker to generate components on-the-fly instead of loading multiple maps from disk./ "
   ]
  },
  {
   "cell_type": "code",
   "execution_count": null,
   "metadata": {},
   "outputs": [],
   "source": [
    "!ls map_based_simulations/201906_highres_foregrounds_extragalactic_tophat/"
   ]
  },
  {
   "cell_type": "code",
   "execution_count": null,
   "metadata": {},
   "outputs": [],
   "source": [
    "!cat map_based_simulations/201906_highres_foregrounds_extragalactic_tophat/synchrotron_512.toml"
   ]
  },
  {
   "cell_type": "code",
   "execution_count": null,
   "metadata": {},
   "outputs": [],
   "source": [
    "sim_noise_cmb_sync = mapsims.from_config([\"map_based_simulations/202006_noise/common.toml\",\n",
    "                           \"map_based_simulations/202006_noise/noise.toml\",\n",
    "                           \"cmb.toml\",\n",
    "                           \"map_based_simulations/201906_highres_foregrounds_extragalactic_tophat/synchrotron_512.toml\"\n",
    "                          ],\n",
    "                          override={\"channels\":\"tube:ST3\", \"output_folder\":\".\", \"num\":1, \"nsplits\":1})"
   ]
  },
  {
   "cell_type": "code",
   "execution_count": null,
   "metadata": {},
   "outputs": [],
   "source": [
    "maps_noise_cmb_sync = sim_noise_cmb_sync.execute()"
   ]
  },
  {
   "cell_type": "code",
   "execution_count": null,
   "metadata": {},
   "outputs": [],
   "source": [
    "hp.mollview(hp.ma(maps_noise_cmb_sync[\"ST3_LF1\"][0]), title=\"Noise + CMB + Synchrotron\", unit=\"$\\mu K_{CMB}$\", min=-100, max=100)"
   ]
  },
  {
   "cell_type": "code",
   "execution_count": null,
   "metadata": {},
   "outputs": [],
   "source": []
  }
 ],
 "metadata": {
  "kernelspec": {
   "display_name": "Simons Obs MBS",
   "language": "python",
   "name": "sobs-mbs"
  },
  "language_info": {
   "codemirror_mode": {
    "name": "ipython",
    "version": 3
   },
   "file_extension": ".py",
   "mimetype": "text/x-python",
   "name": "python",
   "nbconvert_exporter": "python",
   "pygments_lexer": "ipython3",
   "version": "3.7.6"
  },
  "toc-autonumbering": true,
  "toc-showmarkdowntxt": false
 },
 "nbformat": 4,
 "nbformat_minor": 4
}
