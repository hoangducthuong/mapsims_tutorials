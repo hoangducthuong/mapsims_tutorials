{
 "cells": [
  {
   "cell_type": "code",
   "execution_count": null,
   "metadata": {},
   "outputs": [],
   "source": [
    "import mapsims\n",
    "import healpy as hp\n",
    "import pysm3.units as u\n",
    "%matplotlib inline"
   ]
  },
  {
   "cell_type": "markdown",
   "metadata": {},
   "source": [
    "# Access existing foreground and CMB map based simulations\n",
    "\n",
    "The most important repository for Simons Observatory map based simulations is:\n",
    "\n",
    "* https://github.com/simonsobs/map_based_simulations\n",
    "\n",
    "It contains all the documentation about available released map and software, in particular:\n",
    "\n",
    "* Check for news about available releases on the [Logbook](https://github.com/simonsobs/map_based_simulations/blob/master/LOGBOOK.md)\n",
    "* Check documentation about a release and the path at NERSC, for example the last foreground/CMB [201906_highres_foregrounds_extragalactic_tophat](https://github.com/simonsobs/map_based_simulations/tree/master/201906_highres_foregrounds_extragalactic_tophat)\n",
    "* Check all the configuration files used to produce a dataset\n",
    "\n",
    "## Access channel metadata with `mapsims`"
   ]
  },
  {
   "cell_type": "code",
   "execution_count": null,
   "metadata": {},
   "outputs": [],
   "source": [
    "channels = mapsims.parse_channels(\"tube:ST3\")"
   ]
  },
  {
   "cell_type": "code",
   "execution_count": null,
   "metadata": {},
   "outputs": [],
   "source": [
    "print(channels)"
   ]
  },
  {
   "cell_type": "code",
   "execution_count": null,
   "metadata": {},
   "outputs": [],
   "source": [
    "ST3_LF1 = channels[0][0]"
   ]
  },
  {
   "cell_type": "code",
   "execution_count": null,
   "metadata": {},
   "outputs": [],
   "source": [
    "ST3_LF1.center_frequency"
   ]
  },
  {
   "cell_type": "code",
   "execution_count": null,
   "metadata": {},
   "outputs": [],
   "source": [
    "ST3_LF1.beam"
   ]
  },
  {
   "cell_type": "markdown",
   "metadata": {},
   "source": [
    "Check the documentation of [`astropy.units`](https://docs.astropy.org/en/stable/units/) for details about handling units."
   ]
  },
  {
   "cell_type": "code",
   "execution_count": null,
   "metadata": {},
   "outputs": [],
   "source": [
    "ST3_LF1.beam.to(u.deg)"
   ]
  },
  {
   "cell_type": "code",
   "execution_count": null,
   "metadata": {},
   "outputs": [],
   "source": []
  }
 ],
 "metadata": {
  "kernelspec": {
   "display_name": "Python 3",
   "language": "python",
   "name": "python3"
  },
  "language_info": {
   "codemirror_mode": {
    "name": "ipython",
    "version": 3
   },
   "file_extension": ".py",
   "mimetype": "text/x-python",
   "name": "python",
   "nbconvert_exporter": "python",
   "pygments_lexer": "ipython3",
   "version": "3.7.7"
  }
 },
 "nbformat": 4,
 "nbformat_minor": 4
}
