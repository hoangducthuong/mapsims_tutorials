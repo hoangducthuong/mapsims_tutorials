{
 "cells": [
  {
   "cell_type": "code",
   "execution_count": null,
   "metadata": {},
   "outputs": [],
   "source": [
    "import mapsims\n",
    "import numpy as np\n",
    "import healpy as hp\n",
    "import pysm3.units as u\n",
    "from pathlib import Path\n",
    "%matplotlib inline\n",
    "import matplotlib.pyplot as plt"
   ]
  },
  {
   "cell_type": "markdown",
   "metadata": {},
   "source": [
    "# Running on the fly simulations with mapsims\n",
    "\n",
    "The `mapsims` package allows to generate maps on-the-fly, so they can be generated as needed inside other pipelines.\n",
    "\n",
    "The interface is the `SONoiseSimulator` class, specify `nside` to work with HEALPix maps, `shape` and `wcs` for CAR (see lesson 6).\n",
    "\n",
    "The class constructor just initializes the configuration of the class, doesn't load neither spectra nor hitmaps."
   ]
  },
  {
   "cell_type": "code",
   "execution_count": null,
   "metadata": {},
   "outputs": [],
   "source": [
    "mapsims.SONoiseSimulator?"
   ]
  },
  {
   "cell_type": "code",
   "execution_count": null,
   "metadata": {},
   "outputs": [],
   "source": [
    "noise_sim = mapsims.SONoiseSimulator(nside=128)"
   ]
  },
  {
   "cell_type": "markdown",
   "metadata": {},
   "source": [
    "The `simulate` method does all the processing, it loads the HEALPix or CAR hitmaps (from a path when run at NERSC or downloading and caching them locally) and calls the `so_noise_models` package to generate the expected spectra given the instrument configuration.\n",
    "\n",
    "The hitmaps were generated in time domain executing parallel runs with TOAST and then saved to disk. They are only used as a relative weighting, the global noise properties are driven by the spectra from `so_noise_models`.\n",
    "\n",
    "The `simulate` method gets the expected spectra, weights them by the sky fraction and then generates isotropic noise over the whole sky with `synfast` for HEALPix and `sym_expand` for CAR and then scales it by the relative hitmap.\n",
    "\n",
    "It always simulates a dichroic tube at a time so that also the cross-correlation between the channels is simulated and captured in the output maps."
   ]
  },
  {
   "cell_type": "code",
   "execution_count": null,
   "metadata": {},
   "outputs": [],
   "source": [
    "noise_sim.simulate?"
   ]
  },
  {
   "cell_type": "code",
   "execution_count": null,
   "metadata": {},
   "outputs": [],
   "source": [
    "tube = \"ST1\""
   ]
  },
  {
   "cell_type": "code",
   "execution_count": null,
   "metadata": {},
   "outputs": [],
   "source": [
    "noise_maps = noise_sim.simulate(tube)"
   ]
  },
  {
   "cell_type": "code",
   "execution_count": null,
   "metadata": {},
   "outputs": [],
   "source": [
    "noise_maps.shape"
   ]
  },
  {
   "cell_type": "code",
   "execution_count": null,
   "metadata": {},
   "outputs": [],
   "source": [
    "channels = mapsims.parse_channels(\"tube:\" + tube)[0]"
   ]
  },
  {
   "cell_type": "code",
   "execution_count": null,
   "metadata": {},
   "outputs": [],
   "source": [
    "channels"
   ]
  },
  {
   "cell_type": "code",
   "execution_count": null,
   "metadata": {},
   "outputs": [],
   "source": [
    "for ch, m in zip(channels, noise_maps):\n",
    "    hp.mollview(m[0][1], title=\"EE map \" + ch.tag, unit=\"uK\", min=-10, max=10)"
   ]
  },
  {
   "cell_type": "markdown",
   "metadata": {},
   "source": [
    "## Compare cross-spectra\n",
    "\n",
    "We can take a cross-spectrum between the maps of the 2 tubes and compare with the expected spectrum from `noise.get_fullsky_noise_spectra`.\n",
    "\n",
    "**TODO**"
   ]
  },
  {
   "cell_type": "markdown",
   "metadata": {},
   "source": [
    "## Simulate multiple tubes\n",
    "\n",
    "A single `SONoiseSimulator` object is capable of simulating noise for different tubes. See for example a loop to simulate all SAT channels."
   ]
  },
  {
   "cell_type": "code",
   "execution_count": null,
   "metadata": {},
   "outputs": [],
   "source": [
    "tubes = [\"ST{}\".format(i) for i in range(4)]"
   ]
  },
  {
   "cell_type": "code",
   "execution_count": null,
   "metadata": {},
   "outputs": [],
   "source": [
    "for tube in tubes:\n",
    "    noise_maps = noise_sim.simulate(tube)\n",
    "    for ch, m in zip(mapsims.parse_channels(\"tube:\" + tube)[0], noise_maps):\n",
    "        hp.mollview(m[0][1], title=\"EE map \" + ch.tag, unit=\"$uK$\", min=-10, max=10)"
   ]
  },
  {
   "cell_type": "markdown",
   "metadata": {},
   "source": [
    "## Generate multiple splits\n",
    "\n",
    "Override `nsplits` to generate multiple splits, the output maps will be a 3 dimensional array where for each split we have the 3 IQU components."
   ]
  },
  {
   "cell_type": "code",
   "execution_count": null,
   "metadata": {},
   "outputs": [],
   "source": [
    "noise_maps_splits = noise_sim.simulate(\"ST0\", nsplits=4)"
   ]
  },
  {
   "cell_type": "code",
   "execution_count": null,
   "metadata": {},
   "outputs": [],
   "source": [
    "noise_maps_splits.shape"
   ]
  }
 ],
 "metadata": {
  "kernelspec": {
   "display_name": "Simons Obs MBS",
   "language": "python",
   "name": "sobs-mbs"
  },
  "language_info": {
   "codemirror_mode": {
    "name": "ipython",
    "version": 3
   },
   "file_extension": ".py",
   "mimetype": "text/x-python",
   "name": "python",
   "nbconvert_exporter": "python",
   "pygments_lexer": "ipython3",
   "version": "3.7.6"
  }
 },
 "nbformat": 4,
 "nbformat_minor": 4
}
