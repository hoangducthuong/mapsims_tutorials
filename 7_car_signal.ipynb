{
 "cells": [
  {
   "cell_type": "markdown",
   "metadata": {},
   "source": [
    "# Reprojecting foreground maps to CAR"
   ]
  },
  {
   "cell_type": "markdown",
   "metadata": {},
   "source": [
    "We will load in foreground maps in healpix, spherical harmonic transform them, and inverse spherical harmonic transform them onto a CAR map."
   ]
  },
  {
   "cell_type": "code",
   "execution_count": null,
   "metadata": {},
   "outputs": [],
   "source": [
    "# We load the mapsims library as before\n",
    "import mapsims\n",
    "# pixell.enmap is for general map manipulation\n",
    "# pixell.curvedsky is for SHT-related operations\n",
    "# pixell.utils is for general utilities; we use it for units\n",
    "# pixell.enplot lets us make high-resolution visualizations of the map using the Python Image Library\n",
    "from pixell import enmap, curvedsky as cs, utils, enplot\n",
    "import numpy as np\n",
    "# We'll use healpy to do an alm -> cl operation\n",
    "import healpy as hp\n",
    "import matplotlib.pyplot as plt\n",
    "from pathlib import Path\n"
   ]
  },
  {
   "cell_type": "markdown",
   "metadata": {},
   "source": [
    "## Load and plot an example healpix foreground simulation"
   ]
  },
  {
   "cell_type": "code",
   "execution_count": null,
   "metadata": {},
   "outputs": [],
   "source": [
    "channels = mapsims.parse_channels(\"tube:ST0\")\n",
    "channel = channels[0][0]\n",
    "folder = \"/project/projectdirs/sobs/v4_sims/mbs/201906_highres_foregrounds_extragalactic_tophat\"\n",
    "filename_template = \"{nside}/{content}/{num:04d}/simonsobs_{content}_uKCMB_{telescope}{band}_nside{nside}_{num:04d}.fits\"\n",
    "filename = Path(folder) / filename_template.format(nside=512, content=\"dust\", num=0, \n",
    "                                                   telescope=channel.telescope.lower(), band=channel.band)\n",
    "dmap = hp.read_map(filename,(0,1,2))\n",
    "print(dmap.shape)"
   ]
  },
  {
   "cell_type": "code",
   "execution_count": null,
   "metadata": {},
   "outputs": [],
   "source": [
    "for i in range(3): hp.mollzoom(dmap[i])"
   ]
  },
  {
   "cell_type": "markdown",
   "metadata": {},
   "source": [
    "## Reproject to CAR and plot"
   ]
  },
  {
   "cell_type": "code",
   "execution_count": null,
   "metadata": {},
   "outputs": [],
   "source": [
    "shape,wcs = enmap.fullsky_geometry(res = 16.0 * utils.arcmin)"
   ]
  },
  {
   "cell_type": "code",
   "execution_count": null,
   "metadata": {},
   "outputs": [],
   "source": [
    "nside = 512\n",
    "alm = hp.map2alm(dmap,lmax=2*nside)\n",
    "omap = cs.alm2map(alm,enmap.empty((3,)+shape,wcs))"
   ]
  },
  {
   "cell_type": "code",
   "execution_count": null,
   "metadata": {},
   "outputs": [],
   "source": [
    "def plot(x,**kwargs): \n",
    "    enplot.show(enplot.plot(x,**kwargs))\n",
    "for i in range(3): plot(omap[i],grid=True,ticks=20,color='iron',colorbar=True)"
   ]
  }
 ],
 "metadata": {
  "kernelspec": {
   "display_name": "Simons Obs MBS",
   "language": "python",
   "name": "sobs-mbs"
  },
  "language_info": {
   "codemirror_mode": {
    "name": "ipython",
    "version": 3
   },
   "file_extension": ".py",
   "mimetype": "text/x-python",
   "name": "python",
   "nbconvert_exporter": "python",
   "pygments_lexer": "ipython3",
   "version": "3.7.6"
  }
 },
 "nbformat": 4,
 "nbformat_minor": 4
}
